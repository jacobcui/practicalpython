{
 "cells": [
  {
   "cell_type": "code",
   "execution_count": 4,
   "id": "34e12acc-94d3-440d-b40f-52ee4c0c33a7",
   "metadata": {},
   "outputs": [
    {
     "name": "stdout",
     "output_type": "stream",
     "text": [
      "2024-07-24 22:01:16,463 INFO sqlalchemy.engine.Engine BEGIN (implicit)\n",
      "2024-07-24 22:01:16,465 INFO sqlalchemy.engine.Engine PRAGMA main.table_info(\"users\")\n",
      "2024-07-24 22:01:16,466 INFO sqlalchemy.engine.Engine [raw sql] ()\n",
      "2024-07-24 22:01:16,469 INFO sqlalchemy.engine.Engine COMMIT\n"
     ]
    },
    {
     "name": "stderr",
     "output_type": "stream",
     "text": [
      "/tmp/ipykernel_19085/1756334143.py:7: MovedIn20Warning: The ``declarative_base()`` function is now available as sqlalchemy.orm.declarative_base(). (deprecated since: 2.0) (Background on SQLAlchemy 2.0 at: https://sqlalche.me/e/b8d9)\n",
      "  Base = declarative_base()\n"
     ]
    }
   ],
   "source": [
    "from sqlalchemy import create_engine, Column, Integer, String\n",
    "from sqlalchemy.ext.declarative import declarative_base\n",
    "from sqlalchemy.orm import sessionmaker\n",
    "\n",
    "# Create an engine and a base class\n",
    "engine = create_engine('sqlite:///example.db', echo=True)\n",
    "Base = declarative_base()\n",
    "\n",
    "# Define a model\n",
    "class User(Base):\n",
    "    __tablename__ = 'users'\n",
    "    id = Column(Integer, primary_key=True)\n",
    "    name = Column(String)\n",
    "    age = Column(Integer)\n",
    "\n",
    "# Create the table\n",
    "Base.metadata.create_all(engine)\n",
    "\n",
    "# Create a session\n",
    "Session = sessionmaker(bind=engine)\n",
    "session = Session()\n"
   ]
  },
  {
   "cell_type": "code",
   "execution_count": null,
   "id": "91eac0fb-2f8d-4af3-bf3b-2d6f3e45a635",
   "metadata": {},
   "outputs": [],
   "source": []
  }
 ],
 "metadata": {
  "kernelspec": {
   "display_name": "Python 3 (ipykernel)",
   "language": "python",
   "name": "python3"
  }
 },
 "nbformat": 4,
 "nbformat_minor": 5
}
