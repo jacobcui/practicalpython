{
 "cells": [
  {
   "cell_type": "code",
   "execution_count": 1,
   "id": "6bc5468a",
   "metadata": {},
   "outputs": [],
   "source": [
    "x = 5\n",
    "y = \"Hello, World!\""
   ]
  },
  {
   "cell_type": "code",
   "execution_count": 2,
   "id": "b2e7210b",
   "metadata": {},
   "outputs": [],
   "source": [
    "a = 10\n",
    "b = a  # b now also holds the value 10\n",
    "c = a + b  # c holds the value 20\n"
   ]
  },
  {
   "cell_type": "code",
   "execution_count": 3,
   "id": "5be60996",
   "metadata": {},
   "outputs": [
    {
     "name": "stdout",
     "output_type": "stream",
     "text": [
      "Age: 25\n",
      "Height: 1.75\n",
      "Name: Alice\n",
      "Is a student? True\n"
     ]
    }
   ],
   "source": [
    "# Declaring variables of different data types\n",
    "age = 25  # Integer\n",
    "height = 1.75  # Float\n",
    "name = \"Alice\"  # String\n",
    "is_student = True  # Boolean\n",
    "# Printing the variables\n",
    "print(\"Age:\", age)\n",
    "print(\"Height:\", height)\n",
    "print(\"Name:\", name)\n",
    "print(\"Is a student?\", is_student)\n"
   ]
  },
  {
   "cell_type": "code",
   "execution_count": 4,
   "id": "80e88e8a",
   "metadata": {},
   "outputs": [
    {
     "name": "stdout",
     "output_type": "stream",
     "text": [
      "First fruit: apple\n",
      "Last fruit: elderberry\n",
      "Modified list: ['apple', 'blueberry', 'cherry', 'date', 'elderberry']\n",
      "List after appending: ['apple', 'blueberry', 'cherry', 'date', 'elderberry', 'fig']\n",
      "Removed fruit: fig\n",
      "List after popping: ['apple', 'blueberry', 'cherry', 'date', 'elderberry']\n"
     ]
    }
   ],
   "source": [
    "# Declare and initialize a list\n",
    "fruits = [\"apple\", \"banana\", \"cherry\", \"date\", \"elderberry\"]\n",
    "# Access elements in a list\n",
    "print(\"First fruit:\", fruits[0])\n",
    "print(\"Last fruit:\", fruits[-1])\n",
    "\n",
    "# Modify elements in a list\n",
    "fruits[1] = \"blueberry\"\n",
    "print(\"Modified list:\", fruits)\n",
    "\n",
    "# Add elements to a list\n",
    "fruits.append(\"fig\")\n",
    "print(\"List after appending:\", fruits)\n",
    "\n",
    "# Remove elements from a list\n",
    "removed_fruit = fruits.pop()\n",
    "print(\"Removed fruit:\", removed_fruit)\n",
    "print(\"List after popping:\", fruits)\n"
   ]
  },
  {
   "cell_type": "code",
   "execution_count": 5,
   "id": "c2399104",
   "metadata": {},
   "outputs": [
    {
     "name": "stdout",
     "output_type": "stream",
     "text": [
      "X coordinate: 10\n",
      "Y coordinate: 20\n",
      "x: 10\n",
      "y: 20\n"
     ]
    }
   ],
   "source": [
    "# Declare and initialize a tuple\n",
    "coordinates = (10, 20)\n",
    "\n",
    "# Access elements in a tuple\n",
    "print(\"X coordinate:\", coordinates[0])\n",
    "print(\"Y coordinate:\", coordinates[1])\n",
    "\n",
    "# Tuples are immutable, so we cannot modify them\n",
    "# This will raise an error: coordinates[0] = 15\n",
    "\n",
    "# Tuples can be used to assign multiple variables at once\n",
    "x, y = coordinates\n",
    "print(\"x:\", x)\n",
    "print(\"y:\", y)\n"
   ]
  },
  {
   "cell_type": "code",
   "execution_count": 6,
   "id": "afed52e5",
   "metadata": {},
   "outputs": [
    {
     "name": "stdout",
     "output_type": "stream",
     "text": [
      "{1, 2, 3, 4, 5, 6}\n",
      "{1, 2, 4, 5, 6}\n",
      "{1, 2, 4, 5, 6}\n",
      "True\n",
      "{1, 2, 4, 5, 6, 7, 8}\n",
      "{4, 5, 6}\n",
      "{1, 2}\n"
     ]
    }
   ],
   "source": [
    "# Creating a set\n",
    "my_set = {1, 2, 3, 4, 5}\n",
    "\n",
    "# Adding elements\n",
    "my_set.add(6)\n",
    "print(my_set)  # Output: {1, 2, 3, 4, 5, 6}\n",
    "\n",
    "# Removing elements\n",
    "my_set.remove(3)\n",
    "print(my_set)  # Output: {1, 2, 4, 5, 6}\n",
    "\n",
    "# Trying to add a duplicate element\n",
    "my_set.add(2)\n",
    "print(my_set)  # Output: {1, 2, 4, 5, 6}\n",
    "\n",
    "# Checking membership\n",
    "print(2 in my_set)  # Output: True\n",
    "\n",
    "# Set operations\n",
    "other_set = {4, 5, 6, 7, 8}\n",
    "\n",
    "# Union\n",
    "print(my_set.union(other_set))  # Output: {1, 2, 4, 5, 6, 7, 8}\n",
    "\n",
    "# Intersection\n",
    "print(my_set.intersection(other_set))  # Output: {4, 5, 6}\n",
    "\n",
    "# Difference\n",
    "print(my_set.difference(other_set))  # Output: {1, 2}\n"
   ]
  },
  {
   "cell_type": "code",
   "execution_count": 7,
   "id": "b18b8bb6",
   "metadata": {},
   "outputs": [
    {
     "name": "stdout",
     "output_type": "stream",
     "text": [
      "Name: John\n",
      "Age: 30\n",
      "Updated age: 31\n",
      "Keys: dict_keys(['name', 'age', 'city'])\n",
      "Values: dict_values(['John', 31, 'New York'])\n",
      "Items: dict_items([('name', 'John'), ('age', 31), ('city', 'New York')])\n",
      "Get city: New York\n",
      "Updated person: {'name': 'John', 'age': 31, 'city': 'New York', 'country': 'USA'}\n"
     ]
    }
   ],
   "source": [
    "# Creating dictionaries\n",
    "person = {\"name\": \"John\", \"age\": 30, \"city\": \"New York\"}\n",
    "\n",
    "# Accessing values\n",
    "print(\"Name:\", person[\"name\"])\n",
    "print(\"Age:\", person[\"age\"])\n",
    "\n",
    "# Modifying values\n",
    "person[\"age\"] = 31\n",
    "print(\"Updated age:\", person[\"age\"])\n",
    "\n",
    "# Dictionary methods\n",
    "print(\"Keys:\", person.keys())\n",
    "print(\"Values:\", person.values())\n",
    "print(\"Items:\", person.items())\n",
    "print(\"Get city:\", person.get(\"city\"))\n",
    "\n",
    "# Updating dictionary\n",
    "person.update({\"country\": \"USA\"})\n",
    "print(\"Updated person:\", person)\n"
   ]
  },
  {
   "cell_type": "markdown",
   "id": "c1392932",
   "metadata": {},
   "source": [
    "## Operators"
   ]
  },
  {
   "cell_type": "code",
   "execution_count": 10,
   "id": "c3bbbf26",
   "metadata": {},
   "outputs": [],
   "source": [
    "# Perform arithmetic operations\n",
    "integer_var = 10\n",
    "sum_result = integer_var + 5\n",
    "difference_result = integer_var - 3\n",
    "product_result = integer_var * 2\n",
    "quotient_result = integer_var / 4\n",
    "remainder_result = integer_var % 3\n"
   ]
  },
  {
   "cell_type": "code",
   "execution_count": 11,
   "id": "42556224",
   "metadata": {},
   "outputs": [],
   "source": [
    "# Compare values using comparison operators\n",
    "is_equal = (integer_var == 10)\n",
    "is_not_equal = (integer_var != 5)\n",
    "is_greater = (integer_var > 5)\n",
    "is_less = (integer_var < 20)\n",
    "is_greater_or_equal = (integer_var >= 10)\n",
    "is_less_or_equal = (integer_var <= 10)\n"
   ]
  },
  {
   "cell_type": "code",
   "execution_count": 12,
   "id": "505d5485",
   "metadata": {},
   "outputs": [
    {
     "name": "stdout",
     "output_type": "stream",
     "text": [
      "x is positive\n"
     ]
    }
   ],
   "source": [
    "x = 10\n",
    "\n",
    "if x > 0:\n",
    "    print(\"x is positive\")\n",
    "elif x == 0:\n",
    "    print(\"x is zero\")\n",
    "else:\n",
    "    print(\"x is negative\")\n"
   ]
  },
  {
   "cell_type": "code",
   "execution_count": 13,
   "id": "7ed04c99",
   "metadata": {},
   "outputs": [
    {
     "name": "stdout",
     "output_type": "stream",
     "text": [
      "The integer is greater than 5.\n",
      "The integer is not greater than 10.\n",
      "The integer is exactly 10.\n"
     ]
    }
   ],
   "source": [
    "# Use an if statement to control the flow of the program\n",
    "if integer_var > 5:\n",
    "    print(\"The integer is greater than 5.\")\n",
    "\n",
    "# Use an if-else statement to control the flow of the program\n",
    "if integer_var > 10:\n",
    "    print(\"The integer is greater than 10.\")\n",
    "else:\n",
    "    print(\"The integer is not greater than 10.\")\n",
    "\n",
    "# Use an if-elif-else statement to control the flow of the program\n",
    "if integer_var > 10:\n",
    "    print(\"The integer is greater than 10.\")\n",
    "elif integer_var == 10:\n",
    "    print(\"The integer is exactly 10.\")\n",
    "else:\n",
    "    print(\"The integer is less than 10.\")\n"
   ]
  },
  {
   "cell_type": "code",
   "execution_count": 14,
   "id": "5dd6cad3",
   "metadata": {},
   "outputs": [
    {
     "name": "stdout",
     "output_type": "stream",
     "text": [
      "The number is greater than 10.\n",
      "The number is odd.\n"
     ]
    }
   ],
   "source": [
    "# Use nested if statements to check multiple conditions\n",
    "number = 15\n",
    "\n",
    "if number > 10:\n",
    "    print(\"The number is greater than 10.\")\n",
    "    if number % 2 == 0:\n",
    "        print(\"The number is also even.\")\n",
    "    else:\n",
    "        print(\"The number is odd.\")\n",
    "else:\n",
    "    print(\"The number is not greater than 10.\")\n"
   ]
  },
  {
   "cell_type": "code",
   "execution_count": 15,
   "id": "893b9834",
   "metadata": {},
   "outputs": [
    {
     "name": "stdout",
     "output_type": "stream",
     "text": [
      "Count is 0\n",
      "Count is 1\n",
      "Count is 2\n",
      "Count is 3\n",
      "Count is 4\n"
     ]
    }
   ],
   "source": [
    "# While loop\n",
    "\n",
    "count = 0\n",
    "while count < 5:\n",
    "    print(f\"Count is {count}\")\n",
    "    count += 1\n"
   ]
  },
  {
   "cell_type": "code",
   "execution_count": 16,
   "id": "3e5f471d",
   "metadata": {},
   "outputs": [
    {
     "name": "stdout",
     "output_type": "stream",
     "text": [
      "Please enter an integer: asdf\n",
      "That's not an integer. Please try again.\n",
      "Please enter an integer: 10\n",
      "You entered: 10\n"
     ]
    }
   ],
   "source": [
    "valid_input = False\n",
    "while not valid_input:\n",
    "    try:\n",
    "        user_input = int(input(\"Please enter an integer: \"))\n",
    "        valid_input = True\n",
    "    except ValueError:\n",
    "        print(\"That's not an integer. Please try again.\")\n",
    "\n",
    "print(f\"You entered: {user_input}\")\n"
   ]
  },
  {
   "cell_type": "code",
   "execution_count": 17,
   "id": "db351384",
   "metadata": {},
   "outputs": [
    {
     "name": "stdout",
     "output_type": "stream",
     "text": [
      "Count is: 0\n",
      "Count is: 1\n",
      "Count is: 2\n",
      "Count is: 3\n",
      "Count is: 4\n",
      "Count: 1\n",
      "Count: 3\n",
      "Count: 5\n",
      "Count: 7\n",
      "Count: 9\n"
     ]
    }
   ],
   "source": [
    "# Use a while loop to repeat a block of code\n",
    "count = 0\n",
    "while count < 5:\n",
    "    print(\"Count is:\", count)\n",
    "    count += 1\n",
    "\n",
    "\n",
    "# Use a while loop with a continue and break statement\n",
    "count = 0\n",
    "while count < 10:\n",
    "    count += 1\n",
    "    if count % 2 == 0:  # If the count is even\n",
    "        continue        # Skip the rest of the code block and continue with the next iteration\n",
    "    if count > 10:      # If the count is greater than 10\n",
    "        break           # Exit the loop\n",
    "    print(\"Count:\", count)\n"
   ]
  },
  {
   "cell_type": "code",
   "execution_count": 18,
   "id": "508b81e6",
   "metadata": {},
   "outputs": [
    {
     "name": "stdout",
     "output_type": "stream",
     "text": [
      "Count is: 0\n",
      "Count is: 1\n",
      "Count is: 2\n",
      "Count is: 3\n",
      "Count is: 4\n",
      "Loop finished\n"
     ]
    }
   ],
   "source": [
    "# Initialize a variable\n",
    "count = 0\n",
    "\n",
    "# Ensure the condition will eventually become false\n",
    "while count < 5:\n",
    "    print(f\"Count is: {count}\")\n",
    "    \n",
    "    # Update the condition variable\n",
    "    count += 1\n",
    "\n",
    "print(\"Loop finished\")\n"
   ]
  },
  {
   "cell_type": "markdown",
   "id": "4988a8a4",
   "metadata": {},
   "source": [
    "### For loop"
   ]
  },
  {
   "cell_type": "code",
   "execution_count": 19,
   "id": "f22ee50e",
   "metadata": {},
   "outputs": [
    {
     "name": "stdout",
     "output_type": "stream",
     "text": [
      "1\n",
      "2\n",
      "3\n",
      "4\n",
      "5\n"
     ]
    }
   ],
   "source": [
    "numbers = [1, 2, 3, 4, 5]\n",
    "for number in numbers:\n",
    "    print(number)\n"
   ]
  },
  {
   "cell_type": "code",
   "execution_count": 20,
   "id": "c01d0b30",
   "metadata": {},
   "outputs": [
    {
     "name": "stdout",
     "output_type": "stream",
     "text": [
      "0\n",
      "1\n",
      "2\n",
      "3\n",
      "4\n"
     ]
    }
   ],
   "source": [
    "for i in range(5):\n",
    "    print(i)\n"
   ]
  },
  {
   "cell_type": "code",
   "execution_count": 21,
   "id": "dd9d1521",
   "metadata": {},
   "outputs": [
    {
     "name": "stdout",
     "output_type": "stream",
     "text": [
      "P\n",
      "y\n",
      "t\n",
      "h\n",
      "o\n",
      "n\n"
     ]
    }
   ],
   "source": [
    "word = \"Python\"\n",
    "for char in word:\n",
    "    print(char)\n"
   ]
  },
  {
   "cell_type": "code",
   "execution_count": 22,
   "id": "c4a9ebe1",
   "metadata": {},
   "outputs": [
    {
     "name": "stdout",
     "output_type": "stream",
     "text": [
      "0 apple\n",
      "1 banana\n",
      "2 cherry\n"
     ]
    }
   ],
   "source": [
    "fruits = ['apple', 'banana', 'cherry']\n",
    "for index, fruit in enumerate(fruits):\n",
    "    print(index, fruit)\n"
   ]
  }
 ],
 "metadata": {
  "kernelspec": {
   "display_name": "Python 3 (ipykernel)",
   "language": "python",
   "name": "python3"
  },
  "language_info": {
   "codemirror_mode": {
    "name": "ipython",
    "version": 3
   },
   "file_extension": ".py",
   "mimetype": "text/x-python",
   "name": "python",
   "nbconvert_exporter": "python",
   "pygments_lexer": "ipython3",
   "version": "3.11.4"
  }
 },
 "nbformat": 4,
 "nbformat_minor": 5
}
