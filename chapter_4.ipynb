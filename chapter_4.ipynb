{
 "cells": [
  {
   "cell_type": "code",
   "execution_count": 1,
   "id": "92d47a08",
   "metadata": {},
   "outputs": [],
   "source": [
    "class MyClass:\n",
    "    pass\n"
   ]
  },
  {
   "cell_type": "code",
   "execution_count": 2,
   "id": "35962b38",
   "metadata": {},
   "outputs": [],
   "source": [
    "my_instance = MyClass()"
   ]
  },
  {
   "cell_type": "code",
   "execution_count": 3,
   "id": "26aef076",
   "metadata": {},
   "outputs": [],
   "source": [
    "class MyClass:\n",
    "    def __init__(self, attribute1, attribute2):\n",
    "        self.attribute1 = attribute1\n",
    "        self.attribute2 = attribute2\n"
   ]
  },
  {
   "cell_type": "code",
   "execution_count": 4,
   "id": "044f376f",
   "metadata": {},
   "outputs": [],
   "source": [
    "class MyClass:\n",
    "    def __init__(self, attribute1, attribute2):\n",
    "        self.attribute1 = attribute1\n",
    "        self.attribute2 = attribute2\n",
    "\n",
    "    def my_method(self):\n",
    "        print(f\"Attribute1: {self.attribute1}, Attribute2: {self.attribute2}\")\n"
   ]
  },
  {
   "cell_type": "code",
   "execution_count": 5,
   "id": "0f59ae96",
   "metadata": {},
   "outputs": [
    {
     "name": "stdout",
     "output_type": "stream",
     "text": [
      "Attribute1: value1, Attribute2: value2\n"
     ]
    }
   ],
   "source": [
    "# Create an instance of MyClass\n",
    "my_instance = MyClass(\"value1\", \"value2\")\n",
    "\n",
    "# Call the method on the instance\n",
    "my_instance.my_method()\n"
   ]
  },
  {
   "cell_type": "code",
   "execution_count": 6,
   "id": "8df4c87c",
   "metadata": {},
   "outputs": [],
   "source": [
    "# Class Attributes\n",
    "\n",
    "class MyClass:\n",
    "    class_attribute = \"I am a class attribute\"\n",
    "\n",
    "    def __init__(self, attribute1, attribute2):\n",
    "        self.attribute1 = attribute1\n",
    "        self.attribute2 = attribute2\n"
   ]
  },
  {
   "cell_type": "code",
   "execution_count": 7,
   "id": "24ad9f8a",
   "metadata": {},
   "outputs": [
    {
     "name": "stdout",
     "output_type": "stream",
     "text": [
      "2020 Toyota Corolla\n",
      "2021 Honda Civic\n"
     ]
    }
   ],
   "source": [
    "# Defining a class\n",
    "\n",
    "class Car:\n",
    "    def __init__(self, make, model, year):\n",
    "        self.make = make\n",
    "        self.model = model\n",
    "        self.year = year\n",
    "\n",
    "    def display_info(self):\n",
    "        return f\"{self.year} {self.make} {self.model}\"\n",
    "\n",
    "# Creating objects\n",
    "car1 = Car(\"Toyota\", \"Corolla\", 2020)\n",
    "car2 = Car(\"Honda\", \"Civic\", 2021)\n",
    "\n",
    "# Accessing attributes and methods\n",
    "print(car1.display_info())\n",
    "print(car2.display_info())\n"
   ]
  },
  {
   "cell_type": "markdown",
   "id": "7d976823",
   "metadata": {},
   "source": [
    "## Inheritance"
   ]
  },
  {
   "cell_type": "code",
   "execution_count": 9,
   "id": "eeda4989",
   "metadata": {},
   "outputs": [],
   "source": [
    "class BaseClass:\n",
    "    def __init__(self, attribute):\n",
    "        self.attribute = attribute\n",
    "\n",
    "    def base_method(self):\n",
    "        print(f\"Base method: {self.attribute}\")\n",
    "\n",
    "class DerivedClass(BaseClass):\n",
    "    def derived_method(self):\n",
    "        print(\"Derived method\")\n"
   ]
  },
  {
   "cell_type": "code",
   "execution_count": 10,
   "id": "3cd81047",
   "metadata": {},
   "outputs": [
    {
     "name": "stdout",
     "output_type": "stream",
     "text": [
      "Base method: derived attribute\n",
      "Derived method\n"
     ]
    }
   ],
   "source": [
    "# Using Inheritance\n",
    "\n",
    "# Create an instance of DerivedClass\n",
    "derived_instance = DerivedClass(\"derived attribute\")\n",
    "\n",
    "# Call methods from both the base and derived classes\n",
    "derived_instance.base_method()\n",
    "derived_instance.derived_method()\n"
   ]
  },
  {
   "cell_type": "code",
   "execution_count": 11,
   "id": "18f0590c",
   "metadata": {},
   "outputs": [
    {
     "name": "stdout",
     "output_type": "stream",
     "text": [
      "Tesla\n",
      "Model S\n",
      "Driving an electric car.\n"
     ]
    }
   ],
   "source": [
    "# Inheritance and Overriding Methods\n",
    "\n",
    "# Defining a superclass\n",
    "class Vehicle:\n",
    "    def __init__(self, brand):\n",
    "        self.brand = brand\n",
    "\n",
    "    def drive(self):\n",
    "        return \"Driving a vehicle.\"\n",
    "\n",
    "# Defining a subclass\n",
    "class ElectricCar(Vehicle):\n",
    "    def __init__(self, brand, model):\n",
    "        super().__init__(brand)\n",
    "        self.model = model\n",
    "\n",
    "    def drive(self):\n",
    "        return \"Driving an electric car.\"\n",
    "\n",
    "# Creating objects\n",
    "electric_car = ElectricCar(\"Tesla\", \"Model S\")\n",
    "\n",
    "# Accessing attributes and methods\n",
    "print(electric_car.brand)\n",
    "print(electric_car.model)\n",
    "print(electric_car.drive())\n"
   ]
  },
  {
   "cell_type": "markdown",
   "id": "0c1e9037",
   "metadata": {},
   "source": [
    "## Polymorphism"
   ]
  },
  {
   "cell_type": "code",
   "execution_count": 12,
   "id": "88acc78a",
   "metadata": {},
   "outputs": [],
   "source": [
    "class BaseClass:\n",
    "    def my_method(self):\n",
    "        print(\"Base method\")\n",
    "\n",
    "class DerivedClass(BaseClass):\n",
    "    def my_method(self):\n",
    "        print(\"Derived method\")\n"
   ]
  },
  {
   "cell_type": "code",
   "execution_count": 13,
   "id": "c017c274",
   "metadata": {},
   "outputs": [
    {
     "name": "stdout",
     "output_type": "stream",
     "text": [
      "Derived method\n"
     ]
    }
   ],
   "source": [
    "# Using Polymorphism\n",
    "\n",
    "# Create an instance of DerivedClass\n",
    "derived_instance = DerivedClass()\n",
    "\n",
    "# Call the overridden method\n",
    "derived_instance.my_method()  # Output: Derived method\n"
   ]
  },
  {
   "cell_type": "code",
   "execution_count": 14,
   "id": "65e85797",
   "metadata": {},
   "outputs": [
    {
     "name": "stdout",
     "output_type": "stream",
     "text": [
      "Bird is flying.\n",
      "Airplane is flying.\n"
     ]
    }
   ],
   "source": [
    "# Another Example: Polymorphism\n",
    "\n",
    "# Defining classes\n",
    "class Bird:\n",
    "    def fly(self):\n",
    "        return \"Bird is flying.\"\n",
    "\n",
    "class Airplane:\n",
    "    def fly(self):\n",
    "        return \"Airplane is flying.\"\n",
    "\n",
    "# Function that uses polymorphism\n",
    "def can_fly(entity):\n",
    "    return entity.fly()\n",
    "\n",
    "# Creating objects\n",
    "bird = Bird()\n",
    "airplane = Airplane()\n",
    "\n",
    "# Using polymorphism\n",
    "print(can_fly(bird))\n",
    "print(can_fly(airplane))\n"
   ]
  },
  {
   "cell_type": "markdown",
   "id": "2225a26e",
   "metadata": {},
   "source": [
    "## Encapsulation"
   ]
  },
  {
   "cell_type": "code",
   "execution_count": 15,
   "id": "2dc9f559",
   "metadata": {},
   "outputs": [],
   "source": [
    "class MyClass:\n",
    "    def __init__(self):\n",
    "        self.__private_attribute = \"I am private\"\n",
    "\n",
    "    def __private_method(self):\n",
    "        print(\"This is a private method\")\n"
   ]
  },
  {
   "cell_type": "code",
   "execution_count": 16,
   "id": "d3dcef63",
   "metadata": {},
   "outputs": [
    {
     "name": "stdout",
     "output_type": "stream",
     "text": [
      "I am private\n",
      "This is a private method\n"
     ]
    }
   ],
   "source": [
    "my_instance = MyClass()\n",
    "print(my_instance._MyClass__private_attribute)  # Accessing the private attribute\n",
    "my_instance._MyClass__private_method()  # Accessing the private method\n"
   ]
  },
  {
   "cell_type": "code",
   "execution_count": 17,
   "id": "10d32f44",
   "metadata": {},
   "outputs": [
    {
     "name": "stdout",
     "output_type": "stream",
     "text": [
      "100\n",
      "150\n",
      "120\n"
     ]
    }
   ],
   "source": [
    "# Here's a more complete example demonstrating encapsulation with private attributes and methods:\n",
    "\n",
    "class BankAccount:\n",
    "    def __init__(self, initial_balance):\n",
    "        self.__balance = initial_balance\n",
    "\n",
    "    def deposit(self, amount):\n",
    "        if amount > 0:\n",
    "            self.__balance += amount\n",
    "\n",
    "    def withdraw(self, amount):\n",
    "        if 0 < amount <= self.__balance:\n",
    "            self.__balance -= amount\n",
    "\n",
    "    def get_balance(self):\n",
    "        return self.__balance\n",
    "\n",
    "# Creating an instance of BankAccount\n",
    "account = BankAccount(100)\n",
    "\n",
    "# Accessing the balance through a public method\n",
    "print(account.get_balance())  # Output: 100\n",
    "\n",
    "# Attempting to access the private attribute directly (not recommended)\n",
    "# print(account.__balance)  # This will raise an AttributeError\n",
    "\n",
    "# Using public methods to modify the balance\n",
    "account.deposit(50)\n",
    "print(account.get_balance())  # Output: 150\n",
    "\n",
    "account.withdraw(30)\n",
    "print(account.get_balance())  # Output: 120\n"
   ]
  }
 ],
 "metadata": {
  "kernelspec": {
   "display_name": "Python 3 (ipykernel)",
   "language": "python",
   "name": "python3"
  },
  "language_info": {
   "codemirror_mode": {
    "name": "ipython",
    "version": 3
   },
   "file_extension": ".py",
   "mimetype": "text/x-python",
   "name": "python",
   "nbconvert_exporter": "python",
   "pygments_lexer": "ipython3",
   "version": "3.11.4"
  }
 },
 "nbformat": 4,
 "nbformat_minor": 5
}
