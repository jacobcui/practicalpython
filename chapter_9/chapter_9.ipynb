{
 "cells": [
  {
   "cell_type": "code",
   "execution_count": 2,
   "metadata": {},
   "outputs": [
    {
     "name": "stdout",
     "output_type": "stream",
     "text": [
      "Something is happening before the function is called.\n",
      "Hello, Alice!\n",
      "Something is happening after the function is called.\n"
     ]
    }
   ],
   "source": [
    "# Decorator example\n",
    "def simple_decorator(func):\n",
    "    def wrapper(*args, **kwargs):\n",
    "        print(\"Something is happening before the function is called.\")\n",
    "        result = func(*args, **kwargs)\n",
    "        print(\"Something is happening after the function is called.\")\n",
    "        return result\n",
    "    return wrapper\n",
    "\n",
    "@simple_decorator\n",
    "def say_hello(name):\n",
    "    print(f\"Hello, {name}!\")\n",
    "\n",
    "say_hello(\"Alice\")\n"
   ]
  },
  {
   "cell_type": "code",
   "execution_count": 3,
   "metadata": {},
   "outputs": [
    {
     "name": "stdout",
     "output_type": "stream",
     "text": [
      "HELLO, BOB!\n"
     ]
    }
   ],
   "source": [
    "# Decorator example\n",
    "def uppercase_decorator(func):\n",
    "    def wrapper(*args, **kwargs):\n",
    "        original_result = func(*args, **kwargs)\n",
    "        modified_result = original_result.upper()\n",
    "        return modified_result\n",
    "    return wrapper\n",
    "\n",
    "@uppercase_decorator\n",
    "def greet(name):\n",
    "    return f\"Hello, {name}!\"\n",
    "\n",
    "print(greet(\"Bob\"))  # Output: HELLO, BOB!\n"
   ]
  },
  {
   "cell_type": "code",
   "execution_count": 4,
   "metadata": {},
   "outputs": [
    {
     "name": "stdout",
     "output_type": "stream",
     "text": [
      "Hi, Charlie!\n",
      "Hi, Charlie!\n",
      "Hi, Charlie!\n"
     ]
    }
   ],
   "source": [
    "# Decorator arguments\n",
    "def repeat(num_times):\n",
    "    def decorator(func):\n",
    "        def wrapper(*args, **kwargs):\n",
    "            for _ in range(num_times):\n",
    "                result = func(*args, **kwargs)\n",
    "            return result\n",
    "        return wrapper\n",
    "    return decorator\n",
    "\n",
    "@repeat(num_times=3)\n",
    "def say_hi(name):\n",
    "    print(f\"Hi, {name}!\")\n",
    "\n",
    "say_hi(\"Charlie\")  # Output: Hi, Charlie! (repeated 3 times)\n"
   ]
  },
  {
   "cell_type": "code",
   "execution_count": 5,
   "metadata": {},
   "outputs": [
    {
     "name": "stdout",
     "output_type": "stream",
     "text": [
      "Hello, David!\n",
      "This is a new method added by the decorator.\n"
     ]
    }
   ],
   "source": [
    "# Class Decorator\n",
    "def add_method(cls):\n",
    "    def new_method(self):\n",
    "        print(\"This is a new method added by the decorator.\")\n",
    "    cls.new_method = new_method\n",
    "    return cls\n",
    "\n",
    "@add_method\n",
    "class MyClass:\n",
    "    def __init__(self, name):\n",
    "        self.name = name\n",
    "\n",
    "    def greet(self):\n",
    "        print(f\"Hello, {self.name}!\")\n",
    "\n",
    "obj = MyClass(\"David\")\n",
    "obj.greet()  # Output: Hello, David!\n",
    "obj.new_method()  # Output: This is a new method added by the decorator.\n"
   ]
  },
  {
   "cell_type": "code",
   "execution_count": 6,
   "metadata": {},
   "outputs": [
    {
     "name": "stdout",
     "output_type": "stream",
     "text": [
      "0\n",
      "1\n",
      "2\n",
      "3\n",
      "4\n",
      "0\n",
      "1\n",
      "2\n",
      "3\n",
      "4\n"
     ]
    }
   ],
   "source": [
    "# Generator\n",
    "class MyIterator:\n",
    "    def __init__(self, limit):\n",
    "        self.limit = limit\n",
    "        self.current = 0\n",
    "\n",
    "    def __iter__(self):\n",
    "        return self\n",
    "\n",
    "    def __next__(self):\n",
    "        if self.current < self.limit:\n",
    "            value = self.current\n",
    "            self.current += 1\n",
    "            return value\n",
    "        else:\n",
    "            raise StopIteration\n",
    "\n",
    "# Generator example\n",
    "def my_generator(limit):\n",
    "    current = 0\n",
    "    while current < limit:\n",
    "        yield current\n",
    "        current += 1\n",
    "\n",
    "# Using the iterator\n",
    "it = MyIterator(5)\n",
    "for value in it:\n",
    "    print(value)  # Output: 0 1 2 3 4\n",
    "\n",
    "# Using the generator\n",
    "gen = my_generator(5)\n",
    "for value in gen:\n",
    "    print(value)  # Output: 0 1 2 3 4\n"
   ]
  },
  {
   "cell_type": "code",
   "execution_count": 7,
   "metadata": {},
   "outputs": [
    {
     "name": "stdout",
     "output_type": "stream",
     "text": [
      "0\n",
      "1\n",
      "1\n",
      "2\n",
      "3\n",
      "5\n",
      "8\n",
      "13\n",
      "21\n",
      "34\n"
     ]
    }
   ],
   "source": [
    "# Generator\n",
    "def fibonacci(n):\n",
    "    a, b = 0, 1\n",
    "    for _ in range(n):\n",
    "        yield a\n",
    "        a, b = b, a + b\n",
    "\n",
    "# Using the generator\n",
    "for num in fibonacci(10):\n",
    "    print(num)  # Output: 0 1 1 2 3 5 8 13 21 34\n"
   ]
  },
  {
   "cell_type": "code",
   "execution_count": 8,
   "metadata": {},
   "outputs": [
    {
     "name": "stdout",
     "output_type": "stream",
     "text": [
      "Found 40\n"
     ]
    }
   ],
   "source": [
    "# Example: Binary Search Tree (BST)\n",
    "class TreeNode:\n",
    "    def __init__(self, key):\n",
    "        self.left = None\n",
    "        self.right = None\n",
    "        self.val = key\n",
    "\n",
    "class BinarySearchTree:\n",
    "    def __init__(self):\n",
    "        self.root = None\n",
    "\n",
    "    def insert(self, key):\n",
    "        if self.root is None:\n",
    "            self.root = TreeNode(key)\n",
    "        else:\n",
    "            self._insert(self.root, key)\n",
    "\n",
    "    def _insert(self, node, key):\n",
    "        if key < node.val:\n",
    "            if node.left is None:\n",
    "                node.left = TreeNode(key)\n",
    "            else:\n",
    "                self._insert(node.left, key)\n",
    "        else:\n",
    "            if node.right is None:\n",
    "                node.right = TreeNode(key)\n",
    "            else:\n",
    "                self._insert(node.right, key)\n",
    "\n",
    "    def search(self, key):\n",
    "        return self._search(self.root, key)\n",
    "\n",
    "    def _search(self, node, key):\n",
    "        if node is None or node.val == key:\n",
    "            return node\n",
    "        if key < node.val:\n",
    "            return self._search(node.left, key)\n",
    "        return self._search(node.right, key)\n",
    "\n",
    "# Example usage\n",
    "bst = BinarySearchTree()\n",
    "bst.insert(50)\n",
    "bst.insert(30)\n",
    "bst.insert(20)\n",
    "bst.insert(40)\n",
    "bst.insert(70)\n",
    "bst.insert(60)\n",
    "bst.insert(80)\n",
    "\n",
    "result = bst.search(40)\n",
    "if result:\n",
    "    print(f\"Found {result.val}\")\n",
    "else:\n",
    "    print(\"Not found\")\n"
   ]
  },
  {
   "cell_type": "code",
   "execution_count": 9,
   "metadata": {},
   "outputs": [
    {
     "name": "stdout",
     "output_type": "stream",
     "text": [
      "Depth First Traversal (starting from vertex 0):\n",
      "0 1 2 3 4 "
     ]
    }
   ],
   "source": [
    "# Example: Graph Representation and Traversal\n",
    "class Graph:\n",
    "    def __init__(self, vertices):\n",
    "        self.V = vertices\n",
    "        self.graph = {i: [] for i in range(self.V)}\n",
    "\n",
    "    def add_edge(self, u, v):\n",
    "        self.graph[u].append(v)\n",
    "        self.graph[v].append(u)\n",
    "\n",
    "    def dfs(self, v, visited):\n",
    "        visited[v] = True\n",
    "        print(v, end=' ')\n",
    "        for i in self.graph[v]:\n",
    "            if not visited[i]:\n",
    "                self.dfs(i, visited)\n",
    "\n",
    "    def dfs_traversal(self, v):\n",
    "        visited = [False] * self.V\n",
    "        self.dfs(v, visited)\n",
    "\n",
    "# Example usage\n",
    "g = Graph(5)\n",
    "g.add_edge(0, 1)\n",
    "g.add_edge(0, 4)\n",
    "g.add_edge(1, 2)\n",
    "g.add_edge(1, 3)\n",
    "g.add_edge(1, 4)\n",
    "g.add_edge(2, 3)\n",
    "g.add_edge(3, 4)\n",
    "\n",
    "print(\"Depth First Traversal (starting from vertex 0):\")\n",
    "g.dfs_traversal(0)\n"
   ]
  },
  {
   "cell_type": "code",
   "execution_count": 10,
   "metadata": {},
   "outputs": [
    {
     "name": "stdout",
     "output_type": "stream",
     "text": [
      "Min heap elements:\n",
      "1 3 4 5 10 "
     ]
    }
   ],
   "source": [
    "# Heaps\n",
    "import heapq\n",
    "\n",
    "class MinHeap:\n",
    "    def __init__(self):\n",
    "        self.heap = []\n",
    "\n",
    "    def push(self, item):\n",
    "        heapq.heappush(self.heap, item)\n",
    "\n",
    "    def pop(self):\n",
    "        if self.heap:\n",
    "            return heapq.heappop(self.heap)\n",
    "        else:\n",
    "            raise IndexError(\"pop from an empty heap\")\n",
    "\n",
    "    def peek(self):\n",
    "        if self.heap:\n",
    "            return self.heap[0]\n",
    "        else:\n",
    "            raise IndexError(\"peek from an empty heap\")\n",
    "\n",
    "    def size(self):\n",
    "        return len(self.heap)\n",
    "\n",
    "# Example usage\n",
    "min_heap = MinHeap()\n",
    "min_heap.push(5)\n",
    "min_heap.push(3)\n",
    "min_heap.push(10)\n",
    "min_heap.push(1)\n",
    "min_heap.push(4)\n",
    "\n",
    "print(\"Min heap elements:\")\n",
    "while min_heap.size() > 0:\n",
    "    print(min_heap.pop(), end=' ')\n"
   ]
  },
  {
   "cell_type": "code",
   "execution_count": 11,
   "metadata": {},
   "outputs": [
    {
     "name": "stdout",
     "output_type": "stream",
     "text": [
      "1\n",
      "-1\n",
      "-1\n",
      "3\n",
      "4\n"
     ]
    }
   ],
   "source": [
    "# Custom data structures\n",
    "from collections import OrderedDict\n",
    "\n",
    "class LRUCache:\n",
    "    def __init__(self, capacity: int):\n",
    "        self.cache = OrderedDict()\n",
    "        self.capacity = capacity\n",
    "\n",
    "    def get(self, key: int) -> int:\n",
    "        if key not in self.cache:\n",
    "            return -1\n",
    "        else:\n",
    "            self.cache.move_to_end(key)\n",
    "            return self.cache[key]\n",
    "\n",
    "    def put(self, key: int, value: int) -> None:\n",
    "        if key in self.cache:\n",
    "            self.cache.move_to_end(key)\n",
    "        self.cache[key] = value\n",
    "        if len(self.cache) > self.capacity:\n",
    "            self.cache.popitem(last=False)\n",
    "\n",
    "# Example usage\n",
    "lru_cache = LRUCache(2)\n",
    "lru_cache.put(1, 1)\n",
    "lru_cache.put(2, 2)\n",
    "print(lru_cache.get(1))  # returns 1\n",
    "lru_cache.put(3, 3)       # evicts key 2\n",
    "print(lru_cache.get(2))  # returns -1 (not found)\n",
    "lru_cache.put(4, 4)       # evicts key 1\n",
    "print(lru_cache.get(1))  # returns -1 (not found)\n",
    "print(lru_cache.get(3))  # returns 3\n",
    "print(lru_cache.get(4))  # returns 4\n"
   ]
  },
  {
   "cell_type": "code",
   "execution_count": 12,
   "metadata": {},
   "outputs": [
    {
     "name": "stdout",
     "output_type": "stream",
     "text": [
      "Title of the page: Google\n"
     ]
    }
   ],
   "source": [
    "# Web scraping\n",
    "import requests\n",
    "from bs4 import BeautifulSoup\n",
    "\n",
    "# Fetch the web page\n",
    "url = 'https://google.com'\n",
    "response = requests.get(url)\n",
    "\n",
    "# Parse the HTML content\n",
    "soup = BeautifulSoup(response.content, 'html.parser')\n",
    "\n",
    "# Extract data\n",
    "title = soup.title.string\n",
    "print(f\"Title of the page: {title}\")\n"
   ]
  },
  {
   "cell_type": "code",
   "execution_count": 13,
   "metadata": {},
   "outputs": [
    {
     "name": "stdout",
     "output_type": "stream",
     "text": [
      "Title: Sample Page\n",
      "H1: Welcome to the Sample Page\n",
      "Paragraph: This is a paragraph.\n"
     ]
    }
   ],
   "source": [
    "# BeautifulSoup\n",
    "from bs4 import BeautifulSoup\n",
    "\n",
    "# Sample HTML content\n",
    "html_content = \"\"\"\n",
    "<html>\n",
    "<head>\n",
    "    <title>Sample Page</title>\n",
    "</head>\n",
    "<body>\n",
    "    <h1>Welcome to the Sample Page</h1>\n",
    "    <p>This is a paragraph.</p>\n",
    "    <ul>\n",
    "        <li>Item 1</li>\n",
    "        <li>Item 2</li>\n",
    "        <li>Item 3</li>\n",
    "    </ul>\n",
    "</body>\n",
    "</html>\n",
    "\"\"\"\n",
    "\n",
    "# Parse the HTML content\n",
    "soup = BeautifulSoup(html_content, 'html.parser')\n",
    "\n",
    "# Extract data\n",
    "title = soup.title.string\n",
    "h1 = soup.h1.string\n",
    "paragraph = soup.p.string\n",
    "\n",
    "print(f\"Title: {title}\")\n",
    "print(f\"H1: {h1}\")\n",
    "print(f\"Paragraph: {paragraph}\")\n"
   ]
  },
  {
   "cell_type": "code",
   "execution_count": 14,
   "metadata": {},
   "outputs": [
    {
     "name": "stdout",
     "output_type": "stream",
     "text": [
      "H1: Welcome to the Sample Page\n",
      "Intro Paragraph: This is a paragraph.\n",
      "List Items:\n",
      "Item 1\n",
      "Item 2\n",
      "Item 3\n"
     ]
    }
   ],
   "source": [
    "# Navigating the Parse Tree\n",
    "from bs4 import BeautifulSoup\n",
    "\n",
    "# Sample HTML content\n",
    "html_content = \"\"\"\n",
    "<html>\n",
    "<head>\n",
    "    <title>Sample Page</title>\n",
    "</head>\n",
    "<body>\n",
    "    <h1 class=\"header\">Welcome to the Sample Page</h1>\n",
    "    <p id=\"intro\">This is a paragraph.</p>\n",
    "    <ul>\n",
    "        <li>Item 1</li>\n",
    "        <li>Item 2</li>\n",
    "        <li>Item 3</li>\n",
    "    </ul>\n",
    "</body>\n",
    "</html>\n",
    "\"\"\"\n",
    "\n",
    "# Parse the HTML content\n",
    "soup = BeautifulSoup(html_content, 'html.parser')\n",
    "\n",
    "# Navigate the parse tree\n",
    "h1 = soup.find('h1', class_='header')\n",
    "intro_paragraph = soup.find(id='intro')\n",
    "list_items = soup.find_all('li')\n",
    "\n",
    "print(f\"H1: {h1.string}\")\n",
    "print(f\"Intro Paragraph: {intro_paragraph.string}\")\n",
    "print(\"List Items:\")\n",
    "for item in list_items:\n",
    "    print(item.string)\n"
   ]
  },
  {
   "cell_type": "code",
   "execution_count": 15,
   "metadata": {},
   "outputs": [
    {
     "name": "stdout",
     "output_type": "stream",
     "text": [
      "Fact: The first cat in space was a French cat named Felicette (a.k.a. “Astrocat”) In 1963, France blasted the cat into outer space. Electrodes implanted in her brains sent neurological signals back to Earth. She survived the trip.\n",
      "Length: 224\n"
     ]
    }
   ],
   "source": [
    "# Handling different data formats\n",
    "import requests\n",
    "import json\n",
    "\n",
    "# Fetch JSON data from an API\n",
    "url = 'https://catfact.ninja/fact'\n",
    "response = requests.get(url)\n",
    "\n",
    "# Parse JSON data\n",
    "data = json.loads(response.text)\n",
    "\n",
    "# Extract specific data\n",
    "fact = data['fact']\n",
    "length = data['length']\n",
    "\n",
    "print(f\"Fact: {fact}\")\n",
    "print(f\"Length: {length}\")\n"
   ]
  },
  {
   "cell_type": "code",
   "execution_count": 1,
   "metadata": {},
   "outputs": [
    {
     "name": "stdout",
     "output_type": "stream",
     "text": [
      "Title: The Great Gatsby\n",
      "Author: F. Scott Fitzgerald\n"
     ]
    }
   ],
   "source": [
    "# Handling XML data using BeautifulSoup\n",
    "import requests\n",
    "from bs4 import BeautifulSoup\n",
    "\n",
    "# Sample XML data\n",
    "xml_data = '''\n",
    "<book>\n",
    "    <title>The Great Gatsby</title>\n",
    "    <author>F. Scott Fitzgerald</author>\n",
    "</book>\n",
    "'''\n",
    "\n",
    "# Parse XML data\n",
    "soup = BeautifulSoup(xml_data, 'lxml-xml')\n",
    "\n",
    "# Extract specific data\n",
    "title = soup.find('title').string\n",
    "author = soup.find('author').string\n",
    "\n",
    "print(f\"Title: {title}\")\n",
    "print(f\"Author: {author}\")\n"
   ]
  },
  {
   "cell_type": "code",
   "execution_count": 7,
   "metadata": {},
   "outputs": [
    {
     "name": "stdout",
     "output_type": "stream",
     "text": [
      "Thank you for connecting\n"
     ]
    }
   ],
   "source": [
    "# Client sending message to port 12345\n",
    "import socket\n",
    "\n",
    "# Create a socket object\n",
    "s = socket.socket(socket.AF_INET, socket.SOCK_STREAM)\n",
    "\n",
    "# Get local machine name\n",
    "host = socket.gethostname()\n",
    "port = 12345\n",
    "\n",
    "# Connect to the server\n",
    "s.connect((host, port))\n",
    "\n",
    "# Send a message to the server\n",
    "message = 'Hello Server'\n",
    "s.send(message.encode('ascii'))\n",
    "\n",
    "# Receive data from the server\n",
    "response = s.recv(1024)\n",
    "print(response.decode('ascii'))\n",
    "\n",
    "# Close the connection\n",
    "s.close()\n"
   ]
  }
 ],
 "metadata": {
  "kernelspec": {
   "display_name": "env",
   "language": "python",
   "name": "python3"
  },
  "language_info": {
   "codemirror_mode": {
    "name": "ipython",
    "version": 3
   },
   "file_extension": ".py",
   "mimetype": "text/x-python",
   "name": "python",
   "nbconvert_exporter": "python",
   "pygments_lexer": "ipython3",
   "version": "3.12.3"
  }
 },
 "nbformat": 4,
 "nbformat_minor": 2
}
